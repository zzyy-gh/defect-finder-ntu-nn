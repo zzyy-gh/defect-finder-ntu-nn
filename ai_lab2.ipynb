{
  "nbformat": 4,
  "nbformat_minor": 0,
  "metadata": {
    "colab": {
      "name": "ai lab2.ipynb",
      "provenance": [],
      "collapsed_sections": [],
      "include_colab_link": true
    },
    "kernelspec": {
      "name": "python3",
      "display_name": "Python 3"
    },
    "language_info": {
      "name": "python"
    }
  },
  "cells": [
    {
      "cell_type": "markdown",
      "metadata": {
        "id": "view-in-github",
        "colab_type": "text"
      },
      "source": [
        "<a href=\"https://colab.research.google.com/github/zzyy-gh/nn-practice/blob/main/ai_lab2.ipynb\" target=\"_parent\"><img src=\"https://colab.research.google.com/assets/colab-badge.svg\" alt=\"Open In Colab\"/></a>"
      ]
    },
    {
      "cell_type": "markdown",
      "metadata": {
        "id": "g_uNlnORRLgy"
      },
      "source": [
        "# Notes"
      ]
    },
    {
      "cell_type": "markdown",
      "metadata": {
        "id": "VHVXXcuDQXQJ"
      },
      "source": [
        "Make sure the current session has the OQC.mat file, you can do so by uploading it through the left sidebar as shown below:\n",
        "![Screenshot 2021-10-26 002411.png](data:image/png;base64,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)\n",
        "\n"
      ]
    },
    {
      "cell_type": "markdown",
      "metadata": {
        "id": "u4_y4uCrHABo"
      },
      "source": [
        "# Import Packages and Data"
      ]
    },
    {
      "cell_type": "code",
      "metadata": {
        "id": "xEzho2NbwaFt"
      },
      "source": [
        "# !pip install optuna"
      ],
      "execution_count": null,
      "outputs": []
    },
    {
      "cell_type": "code",
      "metadata": {
        "id": "Fcgd620lG59Q"
      },
      "source": [
        "import pandas as pd\n",
        "import torch\n",
        "import torch.nn as nn\n",
        "import torch.nn.functional as F\n",
        "import numpy as np\n",
        "import scipy.io\n",
        "from sklearn.model_selection import train_test_split\n",
        "from random import randint\n",
        "import time\n",
        "import matplotlib.pyplot as plt\n",
        "# import optuna"
      ],
      "execution_count": null,
      "outputs": []
    },
    {
      "cell_type": "code",
      "metadata": {
        "id": "hh_6Y4XpG_UV"
      },
      "source": [
        "data = scipy.io.loadmat('OQC.mat')\n",
        "data_extract = data['data']\n",
        "df = pd.DataFrame(data_extract)\n",
        "X = df.iloc[:,0:48]\n",
        "Y = df.iloc[:,-1]\n",
        "\n",
        "# print(data)\n",
        "# print(data_extract)\n",
        "# print(df)\n",
        "# print(X)\n",
        "# print(Y)"
      ],
      "execution_count": null,
      "outputs": []
    },
    {
      "cell_type": "markdown",
      "metadata": {
        "id": "efh-ph-CIfCe"
      },
      "source": [
        "# Task 1"
      ]
    },
    {
      "cell_type": "markdown",
      "metadata": {
        "id": "t-qbtraqLaUw"
      },
      "source": [
        "Functions and class"
      ]
    },
    {
      "cell_type": "code",
      "metadata": {
        "id": "dn-KPAhUIoRJ"
      },
      "source": [
        "class nn3(nn.Module):\n",
        "  def __init__(self, input_size, hidden_size1, hidden_size2, output_size):\n",
        "    super(nn3, self).__init__()\n",
        "\n",
        "    self.layer1=nn.Linear(input_size, hidden_size1, bias=True)\n",
        "    self.layer2=nn.Linear(hidden_size1, hidden_size2, bias=True)\n",
        "    self.layer3=nn.Linear(hidden_size2, output_size, bias=True)\n",
        "  \n",
        "  def Forward(self,x):\n",
        "    x1=self.layer1(x)\n",
        "    x2=F.relu(x1)\n",
        "    x2=self.layer2(x2)\n",
        "    x3=F.relu(x2)\n",
        "    x3=self.layer3(x3)\n",
        "    p=F.softmax(x3,dim=1)\n",
        "\n",
        "    # return x3\n",
        "    return p\n",
        "\n",
        "def get_error( scores , labels ):\n",
        "\n",
        "    bs=scores.size(0)\n",
        "    predicted_labels = scores.argmax(dim=1)\n",
        "    indicator = (predicted_labels == labels)\n",
        "    num_matches=indicator.sum()\n",
        "    # print(num_matches)\n",
        "    \n",
        "    return 1-num_matches.float()/bs \n",
        "\n",
        "def eval_on_test_set_sgd(model):\n",
        "\n",
        "    \n",
        "    minibatch_X = torch.Tensor(X_test.values)\n",
        "    minibatch_Y = torch.Tensor(np.array(Y_test.values)).long().view(len(X_test))\n",
        "\n",
        "    scores=model.Forward( minibatch_X ) \n",
        "    # print(scores)\n",
        "\n",
        "    error = get_error( scores , minibatch_Y)\n",
        "    return error.item() * 100"
      ],
      "execution_count": null,
      "outputs": []
    },
    {
      "cell_type": "markdown",
      "metadata": {
        "id": "KpP6mpPJMRoi"
      },
      "source": [
        "Split train test set"
      ]
    },
    {
      "cell_type": "code",
      "metadata": {
        "id": "BAFgmlFLK5Rd"
      },
      "source": [
        "X_train, X_test, Y_train, Y_test = train_test_split(X, Y, test_size=0.3)\n",
        "# X_train\n",
        "# Y_test\n",
        "# X_train.iloc[[0,1,2]].values"
      ],
      "execution_count": null,
      "outputs": []
    },
    {
      "cell_type": "markdown",
      "metadata": {
        "id": "RV4AGtPsNtO8"
      },
      "source": [
        "Build NN"
      ]
    },
    {
      "cell_type": "code",
      "metadata": {
        "id": "LuH_GjCvKkGc",
        "colab": {
          "base_uri": "https://localhost:8080/"
        },
        "outputId": "adc1ee01-64ac-4973-a88e-d72df95974ea"
      },
      "source": [
        "net1 = nn3(48, 30, 30, 3)\n",
        "# print(net1)\n",
        "lr = 0.05\n",
        "data_size = len(X_train)\n",
        "feature_number = X_train.shape[-1]\n",
        "bs = 50\n",
        "epoch_size = 100\n",
        "criterion = nn.NLLLoss()\n",
        "\n",
        "for epoch in range(epoch_size):\n",
        "  optimizer=torch.optim.SGD( net1.parameters() , lr=lr ) # new optimizer for each epoch\n",
        "  \n",
        "  running_loss=0\n",
        "  running_error=0\n",
        "  num_batches=0\n",
        "\n",
        "  shuffled_indices= np.random.randint(0, data_size, data_size)\n",
        "  \n",
        "  for count in range(0, data_size, bs):\n",
        "    optimizer.zero_grad() # reset gradient\n",
        "\n",
        "    indices = shuffled_indices[count : count + bs]\n",
        "    minibatch_X = torch.Tensor(X_train.iloc[indices].values)\n",
        "    minibatch_Y = torch.Tensor(np.array(Y_train.iloc[indices].values)).long().view(len(indices))\n",
        "\n",
        "    minibatch_X.requires_grad_()\n",
        "    prob = torch.Tensor(net1.Forward(minibatch_X)).view(len(indices), 3)\n",
        "    log_prob=torch.log(prob)\n",
        "\n",
        "    loss = criterion(log_prob, minibatch_Y)\n",
        "    optimizer.zero_grad()       \n",
        "    loss.backward()\n",
        "    optimizer.step()\n",
        "\n",
        "    # compute some stats\n",
        "    \n",
        "    running_loss += loss.detach().item()\n",
        "            \n",
        "    error = get_error( log_prob.detach() , minibatch_Y)\n",
        "    running_error += error.item()\n",
        "    \n",
        "    num_batches+=1\n",
        "\n",
        "  # once the epoch is finished we divide the \"running quantities\"\n",
        "  # by the number of batches\n",
        "  \n",
        "  total_loss = running_loss/num_batches\n",
        "  total_error = running_error/num_batches\n",
        "  \n",
        "  # every 10 epoch we display the stats \n",
        "  # and compute the error rate on the test set  \n",
        "  \n",
        "  if epoch % 10 == 0 : \n",
        "  \n",
        "      print(' ')      \n",
        "      print('epoch=',epoch,\n",
        "            ' loss=', total_loss , ' error=', total_error*100 ,'percent lr=', lr)\n",
        "      \n",
        "      eval_on_test_set_sgd(net1)\n",
        "      "
      ],
      "execution_count": null,
      "outputs": [
        {
          "output_type": "stream",
          "name": "stdout",
          "text": [
            "nn3(\n",
            "  (layer1): Linear(in_features=48, out_features=30, bias=True)\n",
            "  (layer2): Linear(in_features=30, out_features=30, bias=True)\n",
            "  (layer3): Linear(in_features=30, out_features=3, bias=True)\n",
            ")\n",
            " \n",
            "epoch= 0  loss= 1.1005036320005144  error= 67.94047611100333 percent lr= 0.05\n",
            "test error  =  tensor(63.3183) percent\n",
            " \n",
            "epoch= 10  loss= 0.37979120370887576  error= 13.321429065295629 percent lr= 0.05\n",
            "test error  =  tensor(47.5169) percent\n",
            " \n",
            "epoch= 20  loss= 0.20133891985529945  error= 8.047619603929066 percent lr= 0.05\n",
            "test error  =  tensor(5.7562) percent\n",
            " \n",
            "epoch= 30  loss= 0.09737160034655105  error= 2.904761689049857 percent lr= 0.05\n",
            "test error  =  tensor(7.5621) percent\n",
            " \n",
            "epoch= 40  loss= 0.04227762740282785  error= 0.6190473125094459 percent lr= 0.05\n",
            "test error  =  tensor(2.3702) percent\n",
            " \n",
            "epoch= 50  loss= 0.02697915943073375  error= 0.1428570066179548 percent lr= 0.05\n",
            "test error  =  tensor(0.6772) percent\n",
            " \n",
            "epoch= 60  loss= 0.0211500294196109  error= 0.2857144389833723 percent lr= 0.05\n",
            "test error  =  tensor(0.) percent\n",
            " \n",
            "epoch= 70  loss= 0.012154321973433807  error= 0.0 percent lr= 0.05\n",
            "test error  =  tensor(0.) percent\n",
            " \n",
            "epoch= 80  loss= 0.007444256622832091  error= 0.0 percent lr= 0.05\n",
            "test error  =  tensor(0.) percent\n",
            " \n",
            "epoch= 90  loss= 0.006188860207441307  error= 0.0 percent lr= 0.05\n",
            "test error  =  tensor(0.) percent\n"
          ]
        }
      ]
    },
    {
      "cell_type": "markdown",
      "metadata": {
        "id": "sTMdFcfsBmsW"
      },
      "source": [
        "Checking"
      ]
    },
    {
      "cell_type": "code",
      "metadata": {
        "id": "cfNb34r8LLBK"
      },
      "source": [
        "# input=torch.Tensor(X_test.iloc[2,:])\n",
        "# prob = torch.Tensor(net1.Forward(input)).view(1, 3) \n",
        "# print(prob)\n",
        "# print(Y_test.iloc[2])\n",
        "# torch.argmax(prob) == Y_test.iloc[222]\n",
        "# get_error(prob, Y_test.iloc[222])"
      ],
      "execution_count": null,
      "outputs": []
    },
    {
      "cell_type": "markdown",
      "metadata": {
        "id": "AZUUENT-zhWs"
      },
      "source": [
        "NN 2-in-1 Builder & Trainer"
      ]
    },
    {
      "cell_type": "code",
      "metadata": {
        "id": "hT8toad3zglE"
      },
      "source": [
        "def nnBuilder(X_train, X_test, Y_train, Y_test, layer_size_dis, output_size, lr, epoch_size, bs, data_size_per_epoch):\n",
        "  start = time.time()\n",
        "  results = []\n",
        "  # custom nn class\n",
        "  class nnN(nn.Module):\n",
        "    def __init__(self, input_size, layer_size_dis, output_size):\n",
        "      super(nnN, self).__init__()\n",
        "      self.layers = nn.ModuleList()\n",
        "      self.lsd_len = len(layer_size_dis) \n",
        "      if self.lsd_len == 0:\n",
        "        self.layers.append(nn.Linear(input_size, output_size, bias=True))\n",
        "      else:\n",
        "        self.layers.append(nn.Linear(input_size, layer_size_dis[0], bias=True))\n",
        "        for i in range(1,self.lsd_len):\n",
        "          self.layers.append(nn.Linear(layer_size_dis[i-1], layer_size_dis[i], bias=True))\n",
        "        self.layers.append(nn.Linear(layer_size_dis[self.lsd_len-1], output_size, bias=True))\n",
        "\n",
        "    \n",
        "    def Forward(self,x):\n",
        "      x=self.layers[0](x)\n",
        "      for i in range(1, self.lsd_len + 1):\n",
        "        x=F.relu(x)\n",
        "        x=self.layers[i](x)\n",
        "      p=F.softmax(x,dim=1)\n",
        "\n",
        "      # return x3\n",
        "      return p\n",
        "\n",
        "  data_size = len(X_train)\n",
        "  feature_number = X_train.shape[-1]\n",
        "  criterion = nn.NLLLoss()\n",
        "  net = nnN(feature_number, layer_size_dis, output_size)\n",
        "  # print(net)\n",
        "\n",
        "  for epoch in range(epoch_size):\n",
        "    optimizer=torch.optim.SGD( list(net.parameters()) , lr=lr ) # new optimizer for each epoch\n",
        "    # print(list(net.parameters()))\n",
        "    # print(\"1\")\n",
        "\n",
        "    running_loss=0\n",
        "    running_error=0\n",
        "    num_batches=0\n",
        "\n",
        "    shuffled_indices= np.random.randint(0, data_size, data_size)\n",
        "    # print(\"1\")\n",
        "    \n",
        "    for count in range(0, data_size_per_epoch, bs):\n",
        "      # print(\"1\") \n",
        "      optimizer.zero_grad() # reset gradient\n",
        "\n",
        "      indices = shuffled_indices[count : count + bs]\n",
        "      # print(\"1\")\n",
        "      minibatch_X = torch.Tensor(X_train.iloc[indices].values)\n",
        "      minibatch_Y = torch.Tensor(np.array(Y_train.iloc[indices].values)).long().view(len(indices))\n",
        "      # print(\"1\")\n",
        "      minibatch_X.requires_grad_()\n",
        "      # print(\"1\")\n",
        "      prob = torch.Tensor(net.Forward(minibatch_X)).view(len(indices), output_size)\n",
        "      # print(\"1\")\n",
        "      log_prob=torch.log(prob)\n",
        "      # print(\"1\") \n",
        "      loss = criterion(log_prob, minibatch_Y)\n",
        "      optimizer.zero_grad()       \n",
        "      loss.backward()\n",
        "      optimizer.step()\n",
        "\n",
        "      # compute some stats\n",
        "      \n",
        "      running_loss += loss.detach().item()\n",
        "              \n",
        "      error = get_error( log_prob.detach() , minibatch_Y)\n",
        "      running_error += error.item()\n",
        "      \n",
        "      num_batches+=1\n",
        "      # print(\"1\") \n",
        "\n",
        "\n",
        "    # once the epoch is finished we divide the \"running quantities\"\n",
        "    # by the number of batches\n",
        "    \n",
        "    total_loss = running_loss/num_batches*100\n",
        "    total_error = running_error/num_batches*100\n",
        "    \n",
        "    # every 10 epoch we display the stats \n",
        "    # and compute the error rate on the test set \n",
        "    \n",
        "    if epoch % 5 == 0 or epoch == epoch_size - 1: \n",
        "      test_error = eval_on_test_set_sgd(net)\n",
        "      results.append({\n",
        "          'epoch': epoch,\n",
        "          'loss': total_loss,\n",
        "          'error(%)': total_error,\n",
        "          'test_error(%)': test_error\n",
        "      })\n",
        "      # print(' ')      \n",
        "      # print('epoch=',epoch,\n",
        "      #       ' loss=', total_loss , ' error=', total_error*100 ,'percent lr=', lr)\n",
        "      \n",
        "      # print( 'test error  = ', test_error ,'percent')\n",
        "  elapsed_time = time.time() - start\n",
        "  hyperparams = {\n",
        "      'hidden_layers': layer_size_dis,\n",
        "      'learning_rate': lr,\n",
        "      'epoch_size': epoch_size,\n",
        "      'batch_size': bs,\n",
        "      'elapsed_time': elapsed_time\n",
        "  }\n",
        "  \n",
        "  # print(pd.DataFrame.from_dict([hyperparams]))\n",
        "  # print(' ')\n",
        "  # print(pd.DataFrame.from_dict(results))\n",
        "  # print(' ')\n",
        "  # print('elapsed time: ', elapsed_time, \"s\")\n",
        "  return results, hyperparams\n"
      ],
      "execution_count": null,
      "outputs": []
    },
    {
      "cell_type": "code",
      "metadata": {
        "id": "WCR-gmJa5QSm"
      },
      "source": [
        "for i in range(1):\n",
        "  # layer_size_dis, lr, epoch_size, bs = [30, 30], 0.05, 100, 50\n",
        "  # layer_size_dis, lr, epoch_size, bs = [100, 100], 0.05, 100, 50\n",
        "  layer_size_dis, lr, epoch_size, bs = [30, 30], 0.5, 100, 50\n",
        "  nnBuilder(X_train, X_test, Y_train, Y_test, layer_size_dis, 3, lr, epoch_size, bs, len(X_train))"
      ],
      "execution_count": null,
      "outputs": []
    },
    {
      "cell_type": "markdown",
      "metadata": {
        "id": "NmXD2f5PRdi-"
      },
      "source": [
        "# Task 2: Network\n"
      ]
    },
    {
      "cell_type": "markdown",
      "metadata": {
        "id": "B9hpm0BTg5bc"
      },
      "source": [
        "Deep network"
      ]
    },
    {
      "cell_type": "code",
      "metadata": {
        "id": "Xt3DCsBKRhpS"
      },
      "source": [
        "for i in range(1):\n",
        "  layer_size_dis, lr, epoch_size, bs = [30, 30, 30, 30, 30, 30, 30, 30], 0.05, 200, 50\n",
        "  # layer_size_dis, lr, epoch_size, bs = [100, 100], 0.05, 100, 50\n",
        "  # layer_size_dis, lr, epoch_size, bs = [30, 30], 0.5, 100, 50\n",
        "  resultsDp, hyperparamsDp = nnBuilder(X_train, X_test, Y_train, Y_test, layer_size_dis, 3, lr, epoch_size, bs, len(X_train))\n",
        "  # print(pd.DataFrame.from_dict([hyperparamsDp]))\n",
        "  # print(' ')\n",
        "  # print(pd.DataFrame.from_dict(resultsDp))\n",
        "  # print(' ')\n",
        "  # print('elapsed time: ', elapsed_timeDp, \"s\")"
      ],
      "execution_count": null,
      "outputs": []
    },
    {
      "cell_type": "markdown",
      "metadata": {
        "id": "YdZbA3yLWQyV"
      },
      "source": [
        "Shallow Network"
      ]
    },
    {
      "cell_type": "code",
      "metadata": {
        "id": "iZftGL56WSz2"
      },
      "source": [
        "for i in range(1):\n",
        "  layer_size_dis, lr, epoch_size, bs = [30, 30], 0.05, 200, 50\n",
        "  # layer_size_dis, lr, epoch_size, bs = [100, 100], 0.05, 100, 50\n",
        "  # layer_size_dis, lr, epoch_size, bs = [30, 30], 0.5, 100, 50\n",
        "  resultsSh, hyperparamsSh = nnBuilder(X_train, X_test, Y_train, Y_test, layer_size_dis, 3, lr, epoch_size, bs, len(X_train))\n",
        "  "
      ],
      "execution_count": null,
      "outputs": []
    },
    {
      "cell_type": "markdown",
      "metadata": {
        "id": "k3VDUPpHg18t"
      },
      "source": [
        "Narrow Network"
      ]
    },
    {
      "cell_type": "code",
      "metadata": {
        "id": "DAZ4rOnyg7-V"
      },
      "source": [
        "for i in range(1):\n",
        "  layer_size_dis, lr, epoch_size, bs = [5, 5], 0.05, 200, 50\n",
        "  # layer_size_dis, lr, epoch_size, bs = [100, 100], 0.05, 100, 50\n",
        "  # layer_size_dis, lr, epoch_size, bs = [30, 30], 0.5, 100, 50\n",
        "  resultsNr, hyperparamsNr = nnBuilder(X_train, X_test, Y_train, Y_test, layer_size_dis, 3, lr, epoch_size, bs, len(X_train))"
      ],
      "execution_count": null,
      "outputs": []
    },
    {
      "cell_type": "markdown",
      "metadata": {
        "id": "ya23XJb3hDvg"
      },
      "source": [
        "Wide network"
      ]
    },
    {
      "cell_type": "code",
      "metadata": {
        "id": "xaM9tU49hEwi"
      },
      "source": [
        "for i in range(1):\n",
        "  layer_size_dis, lr, epoch_size, bs = [100, 100], 0.05, 200, 50\n",
        "  # layer_size_dis, lr, epoch_size, bs = [100, 100], 0.05, 100, 50\n",
        "  # layer_size_dis, lr, epoch_size, bs = [30, 30], 0.5, 100, 50\n",
        "  resultsWd, hyperparamsWd = nnBuilder(X_train, X_test, Y_train, Y_test, layer_size_dis, 3, lr, epoch_size, bs, len(X_train))"
      ],
      "execution_count": null,
      "outputs": []
    },
    {
      "cell_type": "markdown",
      "metadata": {
        "id": "lDqmwt8xWoCl"
      },
      "source": [
        "Analysis"
      ]
    },
    {
      "cell_type": "code",
      "metadata": {
        "colab": {
          "base_uri": "https://localhost:8080/",
          "height": 446
        },
        "id": "FR0OmCI4WpJV",
        "outputId": "bc413395-4ae9-4445-ac5d-92d6066827e1"
      },
      "source": [
        "print(pd.DataFrame.from_dict([hyperparamsDp])[['learning_rate', 'batch_size']])\n",
        "print(\" \")\n",
        "print(pd.DataFrame([hyperparamsDp, hyperparamsSh, hyperparamsNr, hyperparamsWd])[['hidden_layers', 'elapsed_time']])\n",
        "print(\" \")\n",
        "plt.plot([d['epoch'] for d in resultsDp], [d['test_error(%)'] for d in resultsDp], label = \"Deep Network\")\n",
        "plt.plot([d['epoch'] for d in resultsSh], [d['test_error(%)'] for d in resultsSh], label = \"Shallow Network\")\n",
        "plt.plot([d['epoch'] for d in resultsNr], [d['test_error(%)'] for d in resultsNr], label = \"Narrow Network\")\n",
        "plt.plot([d['epoch'] for d in resultsWd], [d['test_error(%)'] for d in resultsWd], label = \"Wide Network\")\n",
        "# naming the x axis\n",
        "plt.xlabel('Epoch')\n",
        "# naming the y axis\n",
        "plt.ylabel('Test Error(%)')\n",
        "# giving a title to my graph\n",
        "plt.title('Test Error over Epochs')\n",
        " \n",
        "# show a legend on the plot\n",
        "plt.legend()\n",
        " \n",
        "# function to show the plot\n",
        "plt.show()"
      ],
      "execution_count": null,
      "outputs": [
        {
          "output_type": "stream",
          "name": "stdout",
          "text": [
            "   learning_rate  batch_size\n",
            "0           0.05          50\n",
            " \n",
            "                      hidden_layers  elapsed_time\n",
            "0  [30, 30, 30, 30, 30, 30, 30, 30]     17.040019\n",
            "1                          [30, 30]     10.802966\n",
            "2                            [5, 5]     10.708464\n",
            "3                        [100, 100]     11.855043\n",
            " \n"
          ]
        },
        {
          "output_type": "display_data",
          "data": {
            "image/png": "[encoded data removed]",
            "text/plain": [
              "<Figure size 432x288 with 1 Axes>"
            ]
          },
          "metadata": {
            "needs_background": "light"
          }
        }
      ]
    },
    {
      "cell_type": "markdown",
      "metadata": {
        "id": "JcqHN03gRu9v"
      },
      "source": [
        "# Task 3: Learning Rate\n"
      ]
    },
    {
      "cell_type": "code",
      "metadata": {
        "id": "qokBbHpKRu92"
      },
      "source": [
        "lrs = [0.001, 0.01, 0.1, 0.5]\n",
        "results = {}\n",
        "hyperparams = {}\n",
        "for lr in lrs:\n",
        "  layer_size_dis, lr, epoch_size, bs = [30, 30], lr, 250, 50\n",
        "  # layer_size_dis, lr, epoch_size, bs = [100, 100], 0.05, 100, 50\n",
        "  # layer_size_dis, lr, epoch_size, bs = [30, 30], 0.5, 100, 50\n",
        "  results[str(lr)], hyperparams[str(lr)] = nnBuilder(X_train, X_test, Y_train, Y_test, layer_size_dis, 3, lr, epoch_size, bs, len(X_train))"
      ],
      "execution_count": null,
      "outputs": []
    },
    {
      "cell_type": "markdown",
      "metadata": {
        "id": "KDMeYU4DdNyE"
      },
      "source": [
        "Analysis"
      ]
    },
    {
      "cell_type": "code",
      "metadata": {
        "colab": {
          "base_uri": "https://localhost:8080/",
          "height": 446
        },
        "id": "5GU6vnWodOmX",
        "outputId": "9755ea27-1f5d-46fd-fb1b-2df3cc5350e8"
      },
      "source": [
        "print(pd.DataFrame.from_dict([hyperparams['0.001']])[['hidden_layers', 'batch_size']])\n",
        "print(\" \")\n",
        "print(pd.DataFrame(hyperparams.values())[['learning_rate', 'elapsed_time']])\n",
        "print(\" \")\n",
        "for lr in lrs:\n",
        "  plt.plot([d['epoch'] for d in results[str(lr)]], [d['test_error(%)'] for d in results[str(lr)]], label = str(lr))\n",
        "\n",
        "# naming the x axis\n",
        "plt.xlabel('Epoch')\n",
        "# naming the y axis\n",
        "plt.ylabel('Test Error(%)')\n",
        "# giving a title to my graph\n",
        "plt.title('Test Error over Epochs')\n",
        " \n",
        "# show a legend on the plot\n",
        "plt.legend()\n",
        " \n",
        "# function to show the plot\n",
        "plt.show()"
      ],
      "execution_count": null,
      "outputs": [
        {
          "output_type": "stream",
          "name": "stdout",
          "text": [
            "  hidden_layers  batch_size\n",
            "0      [30, 30]          50\n",
            " \n",
            "   learning_rate  elapsed_time\n",
            "0          0.001     13.816473\n",
            "1          0.010     13.692353\n",
            "2          0.100     13.896538\n",
            "3          0.500     13.603604\n",
            " \n"
          ]
        },
        {
          "output_type": "display_data",
          "data": {
            "image/png": "[encoded data removed]",
            "text/plain": [
              "<Figure size 432x288 with 1 Axes>"
            ]
          },
          "metadata": {
            "needs_background": "light"
          }
        }
      ]
    },
    {
      "cell_type": "markdown",
      "metadata": {
        "id": "IEhP8bsmRycc"
      },
      "source": [
        "# Task 4\n"
      ]
    },
    {
      "cell_type": "markdown",
      "metadata": {
        "id": "py1BaqbGRGOR"
      },
      "source": [
        "BS = 1"
      ]
    },
    {
      "cell_type": "code",
      "metadata": {
        "id": "_nB5Xi50Rycc"
      },
      "source": [
        "layer_size_dis, lr, epoch_size, bs = [30, 30], 0.05, 100, 1\n",
        "# layer_size_dis, lr, epoch_size, bs = [100, 100], 0.05, 100, 50\n",
        "# layer_size_dis, lr, epoch_size, bs = [30, 30], 0.5, 100, 50\n",
        "results1, hyperparams1 = nnBuilder(X_train, X_test, Y_train, Y_test, layer_size_dis, 3, lr, epoch_size, bs, len(X_train))"
      ],
      "execution_count": null,
      "outputs": []
    },
    {
      "cell_type": "markdown",
      "metadata": {
        "id": "oQ70NjVLmh9F"
      },
      "source": [
        "BS = 50"
      ]
    },
    {
      "cell_type": "code",
      "metadata": {
        "id": "sGeztt9tmjQn"
      },
      "source": [
        "layer_size_dis, lr, epoch_size, bs = [30, 30], 0.05, 100, 50\n",
        "# layer_size_dis, lr, epoch_size, bs = [100, 100], 0.05, 100, 50\n",
        "# layer_size_dis, lr, epoch_size, bs = [30, 30], 0.5, 100, 50\n",
        "results50, hyperparams50 = nnBuilder(X_train, X_test, Y_train, Y_test, layer_size_dis, 3, lr, epoch_size, bs, len(X_train))"
      ],
      "execution_count": null,
      "outputs": []
    },
    {
      "cell_type": "markdown",
      "metadata": {
        "id": "g2ycD2VtRvFk"
      },
      "source": [
        "BS = 500"
      ]
    },
    {
      "cell_type": "code",
      "metadata": {
        "id": "WHpQ51B2Rwcc"
      },
      "source": [
        "layer_size_dis, lr, epoch_size, bs = [30, 30], 0.05, 500, 500\n",
        "# layer_size_dis, lr, epoch_size, bs = [100, 100], 0.05, 100, 50\n",
        "# layer_size_dis, lr, epoch_size, bs = [30, 30], 0.5, 100, 50\n",
        "results500, hyperparams500 = nnBuilder(X_train, X_test, Y_train, Y_test, layer_size_dis, 3, lr, epoch_size, bs, len(X_train))"
      ],
      "execution_count": null,
      "outputs": []
    },
    {
      "cell_type": "markdown",
      "metadata": {
        "id": "M74kZsQNgarw"
      },
      "source": [
        "Analysis"
      ]
    },
    {
      "cell_type": "code",
      "metadata": {
        "colab": {
          "base_uri": "https://localhost:8080/",
          "height": 430
        },
        "id": "QmDMGgqAgbvU",
        "outputId": "21c48416-3c9b-4f3a-ccc2-52834e7c814c"
      },
      "source": [
        "print(pd.DataFrame.from_dict([hyperparams500])[['learning_rate', 'hidden_layers']])\n",
        "print(\" \")\n",
        "print(pd.DataFrame([hyperparams1, hyperparams50, hyperparams500])[['batch_size', 'elapsed_time']])\n",
        "print(\" \")\n",
        "plt.plot([d['epoch'] for d in results1], [d['test_error(%)'] for d in results1], label = \"Batch Size 1\")\n",
        "plt.plot([d['epoch'] for d in results50], [d['test_error(%)'] for d in results50], label = \"Batch Size 50\")\n",
        "plt.plot([d['epoch'] for d in results500], [d['test_error(%)'] for d in results500], label = \"Batch Size 500\")\n",
        "\n",
        "# naming the x axis\n",
        "plt.xlabel('Epoch')\n",
        "# naming the y axis\n",
        "plt.ylabel('Test Error(%)')\n",
        "# giving a title to my graph\n",
        "plt.title('Test Error over Epochs')\n",
        " \n",
        "# show a legend on the plot\n",
        "plt.legend()\n",
        " \n",
        "# function to show the plot\n",
        "plt.show()"
      ],
      "execution_count": null,
      "outputs": [
        {
          "output_type": "stream",
          "name": "stdout",
          "text": [
            "   learning_rate hidden_layers\n",
            "0           0.05      [30, 30]\n",
            " \n",
            "   batch_size  elapsed_time\n",
            "0           1    265.744013\n",
            "1          50      7.813396\n",
            "2         500      4.775279\n",
            " \n"
          ]
        },
        {
          "output_type": "display_data",
          "data": {
            "image/png": "[encoded data removed]",
            "text/plain": [
              "<Figure size 432x288 with 1 Axes>"
            ]
          },
          "metadata": {
            "needs_background": "light"
          }
        }
      ]
    }
  ]
}